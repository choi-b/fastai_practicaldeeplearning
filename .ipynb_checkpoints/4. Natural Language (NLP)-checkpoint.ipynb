{
 "cells": [
  {
   "cell_type": "markdown",
   "id": "2a264759",
   "metadata": {},
   "source": [
    "# Hugging Face Transformers (won't use fastai library at all)\n",
    "\n",
    "* following the lesson, we will fine-tune a pre-trained NLP model using a library called HuggingFace Transformer\n",
    "* reason: \n",
    "    * really useful to get experience using other libraries (good for reinforcing knowledge)\n",
    "    * hugging face is really good for NLP, well worth knowing\n",
    "    * probably will have finished integration of transformer library in fastai\n",
    "    \n",
    "* **Hugging Transformer** doesn't have the same architecture as fastai\n",
    "    * lower level, will need to do a bit more work on our end\n",
    "\n",
    "* **Pre-trained model** - a bunch of parameters already fit, some of them - already confident what they should be, some of them - no idea what they should be at all. Hence the need for fine-tuning.\n",
    "\n",
    "* **ULMFiT** - an architecture and transfer learning method that can be applied to NLP tasks\n",
    "    * Started out on Wikipedia data to predict the next word (got up to ~30% accuracy)\n",
    "    * Then applied to IMDB data, took the pre-trained model on wikipedia and ran a few more epochs, then took those weights and fine tuned them to classify a review as positive or negative\n",
    "\n",
    "* Used RNNs around the same time.\n",
    "* **Transformers** - took good really advantage of modern accelerators like Google TPUs\n",
    "    * Threw away the idea of predicting the next word of a sentence\n",
    "    * Took chunks of wikipedia, deleted at random a few words, asked the model which words were deleted\n",
    "\n",
    "* For this lesson, we'll focus on the **Transformers masked language model**\n"
   ]
  },
  {
   "cell_type": "code",
   "execution_count": null,
   "id": "2f651bff",
   "metadata": {},
   "outputs": [],
   "source": []
  },
  {
   "cell_type": "code",
   "execution_count": null,
   "id": "d2e09a0a",
   "metadata": {},
   "outputs": [],
   "source": []
  }
 ],
 "metadata": {
  "kernelspec": {
   "display_name": "Python 3 (ipykernel)",
   "language": "python",
   "name": "python3"
  },
  "language_info": {
   "codemirror_mode": {
    "name": "ipython",
    "version": 3
   },
   "file_extension": ".py",
   "mimetype": "text/x-python",
   "name": "python",
   "nbconvert_exporter": "python",
   "pygments_lexer": "ipython3",
   "version": "3.10.9"
  }
 },
 "nbformat": 4,
 "nbformat_minor": 5
}
